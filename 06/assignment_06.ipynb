{
 "cells": [
  {
   "cell_type": "markdown",
   "metadata": {},
   "source": [
    "# Linear Regression "
   ]
  },
  {
   "cell_type": "markdown",
   "metadata": {},
   "source": [
    "## import library"
   ]
  },
  {
   "cell_type": "code",
   "execution_count": 10,
   "metadata": {},
   "outputs": [],
   "source": [
    "import numpy as np\n",
    "import matplotlib.image as img\n",
    "import matplotlib.pyplot as plt\n",
    "import matplotlib.colors as colors\n",
    "from mpl_toolkits.mplot3d import Axes3D"
   ]
  },
  {
   "cell_type": "markdown",
   "metadata": {},
   "source": [
    "## load point data "
   ]
  },
  {
   "cell_type": "code",
   "execution_count": 11,
   "metadata": {},
   "outputs": [
    {
     "output_type": "display_data",
     "data": {
      "text/plain": "<Figure size 576x576 with 1 Axes>",
      "image/svg+xml": "<?xml version=\"1.0\" encoding=\"utf-8\" standalone=\"no\"?>\r\n<!DOCTYPE svg PUBLIC \"-//W3C//DTD SVG 1.1//EN\"\r\n  \"http://www.w3.org/Graphics/SVG/1.1/DTD/svg11.dtd\">\r\n<svg height=\"567.59625pt\" version=\"1.1\" viewBox=\"0 0 568.904688 567.59625\" width=\"568.904688pt\" xmlns=\"http://www.w3.org/2000/svg\" xmlns:xlink=\"http://www.w3.org/1999/xlink\">\r\n <metadata>\r\n  <rdf:RDF xmlns:cc=\"http://creativecommons.org/ns#\" xmlns:dc=\"http://purl.org/dc/elements/1.1/\" xmlns:rdf=\"http://www.w3.org/1999/02/22-rdf-syntax-ns#\">\r\n   <cc:Work>\r\n    <dc:type rdf:resource=\"http://purl.org/dc/dcmitype/StillImage\"/>\r\n    <dc:date>2021-04-12T16:24:31.813723</dc:date>\r\n    <dc:format>image/svg+xml</dc:format>\r\n    <dc:creator>\r\n     <cc:Agent>\r\n      <dc:title>Matplotlib v3.4.1, https://matplotlib.org/</dc:title>\r\n     </cc:Agent>\r\n    </dc:creator>\r\n   </cc:Work>\r\n  </rdf:RDF>\r\n </metadata>\r\n <defs>\r\n  <style type=\"text/css\">*{stroke-linecap:butt;stroke-linejoin:round;}</style>\r\n </defs>\r\n <g id=\"figure_1\">\r\n  <g id=\"patch_1\">\r\n   <path d=\"M 0 567.59625 \r\nL 568.904688 567.59625 \r\nL 568.904688 0 \r\nL 0 0 \r\nz\r\n\" style=\"fill:none;\"/>\r\n  </g>\r\n  <g id=\"axes_1\">\r\n   <g id=\"patch_2\">\r\n    <path d=\"M 35.304688 543.718125 \r\nL 561.704687 543.718125 \r\nL 561.704687 22.318125 \r\nL 35.304688 22.318125 \r\nz\r\n\" style=\"fill:#ffffff;\"/>\r\n   </g>\r\n   <g id=\"matplotlib.axis_1\">\r\n    <g id=\"xtick_1\">\r\n     <g id=\"line2d_1\">\r\n      <defs>\r\n       <path d=\"M 0 0 \r\nL 0 3.5 \r\n\" id=\"mb4b6b5ab74\" style=\"stroke:#000000;stroke-width:0.8;\"/>\r\n      </defs>\r\n      <g>\r\n       <use style=\"stroke:#000000;stroke-width:0.8;\" x=\"59.23196\" xlink:href=\"#mb4b6b5ab74\" y=\"543.718125\"/>\r\n      </g>\r\n     </g>\r\n     <g id=\"text_1\">\r\n      <!-- −10.0 -->\r\n      <g transform=\"translate(43.909304 558.316562)scale(0.1 -0.1)\">\r\n       <defs>\r\n        <path d=\"M 678 2272 \r\nL 4684 2272 \r\nL 4684 1741 \r\nL 678 1741 \r\nL 678 2272 \r\nz\r\n\" id=\"DejaVuSans-2212\" transform=\"scale(0.015625)\"/>\r\n        <path d=\"M 794 531 \r\nL 1825 531 \r\nL 1825 4091 \r\nL 703 3866 \r\nL 703 4441 \r\nL 1819 4666 \r\nL 2450 4666 \r\nL 2450 531 \r\nL 3481 531 \r\nL 3481 0 \r\nL 794 0 \r\nL 794 531 \r\nz\r\n\" id=\"DejaVuSans-31\" transform=\"scale(0.015625)\"/>\r\n        <path d=\"M 2034 4250 \r\nQ 1547 4250 1301 3770 \r\nQ 1056 3291 1056 2328 \r\nQ 1056 1369 1301 889 \r\nQ 1547 409 2034 409 \r\nQ 2525 409 2770 889 \r\nQ 3016 1369 3016 2328 \r\nQ 3016 3291 2770 3770 \r\nQ 2525 4250 2034 4250 \r\nz\r\nM 2034 4750 \r\nQ 2819 4750 3233 4129 \r\nQ 3647 3509 3647 2328 \r\nQ 3647 1150 3233 529 \r\nQ 2819 -91 2034 -91 \r\nQ 1250 -91 836 529 \r\nQ 422 1150 422 2328 \r\nQ 422 3509 836 4129 \r\nQ 1250 4750 2034 4750 \r\nz\r\n\" id=\"DejaVuSans-30\" transform=\"scale(0.015625)\"/>\r\n        <path d=\"M 684 794 \r\nL 1344 794 \r\nL 1344 0 \r\nL 684 0 \r\nL 684 794 \r\nz\r\n\" id=\"DejaVuSans-2e\" transform=\"scale(0.015625)\"/>\r\n       </defs>\r\n       <use xlink:href=\"#DejaVuSans-2212\"/>\r\n       <use x=\"83.789062\" xlink:href=\"#DejaVuSans-31\"/>\r\n       <use x=\"147.412109\" xlink:href=\"#DejaVuSans-30\"/>\r\n       <use x=\"211.035156\" xlink:href=\"#DejaVuSans-2e\"/>\r\n       <use x=\"242.822266\" xlink:href=\"#DejaVuSans-30\"/>\r\n      </g>\r\n     </g>\r\n    </g>\r\n    <g id=\"xtick_2\">\r\n     <g id=\"line2d_2\">\r\n      <g>\r\n       <use style=\"stroke:#000000;stroke-width:0.8;\" x=\"119.050142\" xlink:href=\"#mb4b6b5ab74\" y=\"543.718125\"/>\r\n      </g>\r\n     </g>\r\n     <g id=\"text_2\">\r\n      <!-- −7.5 -->\r\n      <g transform=\"translate(106.908736 558.316562)scale(0.1 -0.1)\">\r\n       <defs>\r\n        <path d=\"M 525 4666 \r\nL 3525 4666 \r\nL 3525 4397 \r\nL 1831 0 \r\nL 1172 0 \r\nL 2766 4134 \r\nL 525 4134 \r\nL 525 4666 \r\nz\r\n\" id=\"DejaVuSans-37\" transform=\"scale(0.015625)\"/>\r\n        <path d=\"M 691 4666 \r\nL 3169 4666 \r\nL 3169 4134 \r\nL 1269 4134 \r\nL 1269 2991 \r\nQ 1406 3038 1543 3061 \r\nQ 1681 3084 1819 3084 \r\nQ 2600 3084 3056 2656 \r\nQ 3513 2228 3513 1497 \r\nQ 3513 744 3044 326 \r\nQ 2575 -91 1722 -91 \r\nQ 1428 -91 1123 -41 \r\nQ 819 9 494 109 \r\nL 494 744 \r\nQ 775 591 1075 516 \r\nQ 1375 441 1709 441 \r\nQ 2250 441 2565 725 \r\nQ 2881 1009 2881 1497 \r\nQ 2881 1984 2565 2268 \r\nQ 2250 2553 1709 2553 \r\nQ 1456 2553 1204 2497 \r\nQ 953 2441 691 2322 \r\nL 691 4666 \r\nz\r\n\" id=\"DejaVuSans-35\" transform=\"scale(0.015625)\"/>\r\n       </defs>\r\n       <use xlink:href=\"#DejaVuSans-2212\"/>\r\n       <use x=\"83.789062\" xlink:href=\"#DejaVuSans-37\"/>\r\n       <use x=\"147.412109\" xlink:href=\"#DejaVuSans-2e\"/>\r\n       <use x=\"179.199219\" xlink:href=\"#DejaVuSans-35\"/>\r\n      </g>\r\n     </g>\r\n    </g>\r\n    <g id=\"xtick_3\">\r\n     <g id=\"line2d_3\">\r\n      <g>\r\n       <use style=\"stroke:#000000;stroke-width:0.8;\" x=\"178.868324\" xlink:href=\"#mb4b6b5ab74\" y=\"543.718125\"/>\r\n      </g>\r\n     </g>\r\n     <g id=\"text_3\">\r\n      <!-- −5.0 -->\r\n      <g transform=\"translate(166.726918 558.316562)scale(0.1 -0.1)\">\r\n       <use xlink:href=\"#DejaVuSans-2212\"/>\r\n       <use x=\"83.789062\" xlink:href=\"#DejaVuSans-35\"/>\r\n       <use x=\"147.412109\" xlink:href=\"#DejaVuSans-2e\"/>\r\n       <use x=\"179.199219\" xlink:href=\"#DejaVuSans-30\"/>\r\n      </g>\r\n     </g>\r\n    </g>\r\n    <g id=\"xtick_4\">\r\n     <g id=\"line2d_4\">\r\n      <g>\r\n       <use style=\"stroke:#000000;stroke-width:0.8;\" x=\"238.686506\" xlink:href=\"#mb4b6b5ab74\" y=\"543.718125\"/>\r\n      </g>\r\n     </g>\r\n     <g id=\"text_4\">\r\n      <!-- −2.5 -->\r\n      <g transform=\"translate(226.545099 558.316562)scale(0.1 -0.1)\">\r\n       <defs>\r\n        <path d=\"M 1228 531 \r\nL 3431 531 \r\nL 3431 0 \r\nL 469 0 \r\nL 469 531 \r\nQ 828 903 1448 1529 \r\nQ 2069 2156 2228 2338 \r\nQ 2531 2678 2651 2914 \r\nQ 2772 3150 2772 3378 \r\nQ 2772 3750 2511 3984 \r\nQ 2250 4219 1831 4219 \r\nQ 1534 4219 1204 4116 \r\nQ 875 4013 500 3803 \r\nL 500 4441 \r\nQ 881 4594 1212 4672 \r\nQ 1544 4750 1819 4750 \r\nQ 2544 4750 2975 4387 \r\nQ 3406 4025 3406 3419 \r\nQ 3406 3131 3298 2873 \r\nQ 3191 2616 2906 2266 \r\nQ 2828 2175 2409 1742 \r\nQ 1991 1309 1228 531 \r\nz\r\n\" id=\"DejaVuSans-32\" transform=\"scale(0.015625)\"/>\r\n       </defs>\r\n       <use xlink:href=\"#DejaVuSans-2212\"/>\r\n       <use x=\"83.789062\" xlink:href=\"#DejaVuSans-32\"/>\r\n       <use x=\"147.412109\" xlink:href=\"#DejaVuSans-2e\"/>\r\n       <use x=\"179.199219\" xlink:href=\"#DejaVuSans-35\"/>\r\n      </g>\r\n     </g>\r\n    </g>\r\n    <g id=\"xtick_5\">\r\n     <g id=\"line2d_5\">\r\n      <g>\r\n       <use style=\"stroke:#000000;stroke-width:0.8;\" x=\"298.504687\" xlink:href=\"#mb4b6b5ab74\" y=\"543.718125\"/>\r\n      </g>\r\n     </g>\r\n     <g id=\"text_5\">\r\n      <!-- 0.0 -->\r\n      <g transform=\"translate(290.553125 558.316562)scale(0.1 -0.1)\">\r\n       <use xlink:href=\"#DejaVuSans-30\"/>\r\n       <use x=\"63.623047\" xlink:href=\"#DejaVuSans-2e\"/>\r\n       <use x=\"95.410156\" xlink:href=\"#DejaVuSans-30\"/>\r\n      </g>\r\n     </g>\r\n    </g>\r\n    <g id=\"xtick_6\">\r\n     <g id=\"line2d_6\">\r\n      <g>\r\n       <use style=\"stroke:#000000;stroke-width:0.8;\" x=\"358.322869\" xlink:href=\"#mb4b6b5ab74\" y=\"543.718125\"/>\r\n      </g>\r\n     </g>\r\n     <g id=\"text_6\">\r\n      <!-- 2.5 -->\r\n      <g transform=\"translate(350.371307 558.316562)scale(0.1 -0.1)\">\r\n       <use xlink:href=\"#DejaVuSans-32\"/>\r\n       <use x=\"63.623047\" xlink:href=\"#DejaVuSans-2e\"/>\r\n       <use x=\"95.410156\" xlink:href=\"#DejaVuSans-35\"/>\r\n      </g>\r\n     </g>\r\n    </g>\r\n    <g id=\"xtick_7\">\r\n     <g id=\"line2d_7\">\r\n      <g>\r\n       <use style=\"stroke:#000000;stroke-width:0.8;\" x=\"418.141051\" xlink:href=\"#mb4b6b5ab74\" y=\"543.718125\"/>\r\n      </g>\r\n     </g>\r\n     <g id=\"text_7\">\r\n      <!-- 5.0 -->\r\n      <g transform=\"translate(410.189489 558.316562)scale(0.1 -0.1)\">\r\n       <use xlink:href=\"#DejaVuSans-35\"/>\r\n       <use x=\"63.623047\" xlink:href=\"#DejaVuSans-2e\"/>\r\n       <use x=\"95.410156\" xlink:href=\"#DejaVuSans-30\"/>\r\n      </g>\r\n     </g>\r\n    </g>\r\n    <g id=\"xtick_8\">\r\n     <g id=\"line2d_8\">\r\n      <g>\r\n       <use style=\"stroke:#000000;stroke-width:0.8;\" x=\"477.959233\" xlink:href=\"#mb4b6b5ab74\" y=\"543.718125\"/>\r\n      </g>\r\n     </g>\r\n     <g id=\"text_8\">\r\n      <!-- 7.5 -->\r\n      <g transform=\"translate(470.00767 558.316562)scale(0.1 -0.1)\">\r\n       <use xlink:href=\"#DejaVuSans-37\"/>\r\n       <use x=\"63.623047\" xlink:href=\"#DejaVuSans-2e\"/>\r\n       <use x=\"95.410156\" xlink:href=\"#DejaVuSans-35\"/>\r\n      </g>\r\n     </g>\r\n    </g>\r\n    <g id=\"xtick_9\">\r\n     <g id=\"line2d_9\">\r\n      <g>\r\n       <use style=\"stroke:#000000;stroke-width:0.8;\" x=\"537.777415\" xlink:href=\"#mb4b6b5ab74\" y=\"543.718125\"/>\r\n      </g>\r\n     </g>\r\n     <g id=\"text_9\">\r\n      <!-- 10.0 -->\r\n      <g transform=\"translate(526.644602 558.316562)scale(0.1 -0.1)\">\r\n       <use xlink:href=\"#DejaVuSans-31\"/>\r\n       <use x=\"63.623047\" xlink:href=\"#DejaVuSans-30\"/>\r\n       <use x=\"127.246094\" xlink:href=\"#DejaVuSans-2e\"/>\r\n       <use x=\"159.033203\" xlink:href=\"#DejaVuSans-30\"/>\r\n      </g>\r\n     </g>\r\n    </g>\r\n   </g>\r\n   <g id=\"matplotlib.axis_2\">\r\n    <g id=\"ytick_1\">\r\n     <g id=\"line2d_10\">\r\n      <defs>\r\n       <path d=\"M 0 0 \r\nL -3.5 0 \r\n\" id=\"m08c382d535\" style=\"stroke:#000000;stroke-width:0.8;\"/>\r\n      </defs>\r\n      <g>\r\n       <use style=\"stroke:#000000;stroke-width:0.8;\" x=\"35.304688\" xlink:href=\"#m08c382d535\" y=\"509.935023\"/>\r\n      </g>\r\n     </g>\r\n     <g id=\"text_10\">\r\n      <!-- −20 -->\r\n      <g transform=\"translate(7.2 513.734242)scale(0.1 -0.1)\">\r\n       <use xlink:href=\"#DejaVuSans-2212\"/>\r\n       <use x=\"83.789062\" xlink:href=\"#DejaVuSans-32\"/>\r\n       <use x=\"147.412109\" xlink:href=\"#DejaVuSans-30\"/>\r\n      </g>\r\n     </g>\r\n    </g>\r\n    <g id=\"ytick_2\">\r\n     <g id=\"line2d_11\">\r\n      <g>\r\n       <use style=\"stroke:#000000;stroke-width:0.8;\" x=\"35.304688\" xlink:href=\"#m08c382d535\" y=\"409.427839\"/>\r\n      </g>\r\n     </g>\r\n     <g id=\"text_11\">\r\n      <!-- −10 -->\r\n      <g transform=\"translate(7.2 413.227058)scale(0.1 -0.1)\">\r\n       <use xlink:href=\"#DejaVuSans-2212\"/>\r\n       <use x=\"83.789062\" xlink:href=\"#DejaVuSans-31\"/>\r\n       <use x=\"147.412109\" xlink:href=\"#DejaVuSans-30\"/>\r\n      </g>\r\n     </g>\r\n    </g>\r\n    <g id=\"ytick_3\">\r\n     <g id=\"line2d_12\">\r\n      <g>\r\n       <use style=\"stroke:#000000;stroke-width:0.8;\" x=\"35.304688\" xlink:href=\"#m08c382d535\" y=\"308.920656\"/>\r\n      </g>\r\n     </g>\r\n     <g id=\"text_12\">\r\n      <!-- 0 -->\r\n      <g transform=\"translate(21.942187 312.719874)scale(0.1 -0.1)\">\r\n       <use xlink:href=\"#DejaVuSans-30\"/>\r\n      </g>\r\n     </g>\r\n    </g>\r\n    <g id=\"ytick_4\">\r\n     <g id=\"line2d_13\">\r\n      <g>\r\n       <use style=\"stroke:#000000;stroke-width:0.8;\" x=\"35.304688\" xlink:href=\"#m08c382d535\" y=\"208.413472\"/>\r\n      </g>\r\n     </g>\r\n     <g id=\"text_13\">\r\n      <!-- 10 -->\r\n      <g transform=\"translate(15.579687 212.21269)scale(0.1 -0.1)\">\r\n       <use xlink:href=\"#DejaVuSans-31\"/>\r\n       <use x=\"63.623047\" xlink:href=\"#DejaVuSans-30\"/>\r\n      </g>\r\n     </g>\r\n    </g>\r\n    <g id=\"ytick_5\">\r\n     <g id=\"line2d_14\">\r\n      <g>\r\n       <use style=\"stroke:#000000;stroke-width:0.8;\" x=\"35.304688\" xlink:href=\"#m08c382d535\" y=\"107.906288\"/>\r\n      </g>\r\n     </g>\r\n     <g id=\"text_14\">\r\n      <!-- 20 -->\r\n      <g transform=\"translate(15.579687 111.705507)scale(0.1 -0.1)\">\r\n       <use xlink:href=\"#DejaVuSans-32\"/>\r\n       <use x=\"63.623047\" xlink:href=\"#DejaVuSans-30\"/>\r\n      </g>\r\n     </g>\r\n    </g>\r\n   </g>\r\n   <g id=\"line2d_15\">\r\n    <defs>\r\n     <path d=\"M 0 1.5 \r\nC 0.397805 1.5 0.77937 1.341951 1.06066 1.06066 \r\nC 1.341951 0.77937 1.5 0.397805 1.5 0 \r\nC 1.5 -0.397805 1.341951 -0.77937 1.06066 -1.06066 \r\nC 0.77937 -1.341951 0.397805 -1.5 0 -1.5 \r\nC -0.397805 -1.5 -0.77937 -1.341951 -1.06066 -1.06066 \r\nC -1.341951 -0.77937 -1.5 -0.397805 -1.5 0 \r\nC -1.5 0.397805 -1.341951 0.77937 -1.06066 1.06066 \r\nC -0.77937 1.341951 -0.397805 1.5 0 1.5 \r\nz\r\n\" id=\"m68313d24e5\" style=\"stroke:#0000ff;\"/>\r\n    </defs>\r\n    <g clip-path=\"url(#pbaf2bac9e2)\">\r\n     <use style=\"fill:#0000ff;stroke:#0000ff;\" x=\"59.23196\" xlink:href=\"#m68313d24e5\" y=\"439.687095\"/>\r\n     <use style=\"fill:#0000ff;stroke:#0000ff;\" x=\"61.1086\" xlink:href=\"#m68313d24e5\" y=\"507.078478\"/>\r\n     <use style=\"fill:#0000ff;stroke:#0000ff;\" x=\"62.985264\" xlink:href=\"#m68313d24e5\" y=\"501.342785\"/>\r\n     <use style=\"fill:#0000ff;stroke:#0000ff;\" x=\"64.861904\" xlink:href=\"#m68313d24e5\" y=\"473.568248\"/>\r\n     <use style=\"fill:#0000ff;stroke:#0000ff;\" x=\"66.738544\" xlink:href=\"#m68313d24e5\" y=\"449.015247\"/>\r\n     <use style=\"fill:#0000ff;stroke:#0000ff;\" x=\"68.615208\" xlink:href=\"#m68313d24e5\" y=\"462.205207\"/>\r\n     <use style=\"fill:#0000ff;stroke:#0000ff;\" x=\"70.491848\" xlink:href=\"#m68313d24e5\" y=\"490.761981\"/>\r\n     <use style=\"fill:#0000ff;stroke:#0000ff;\" x=\"72.368512\" xlink:href=\"#m68313d24e5\" y=\"497.00589\"/>\r\n     <use style=\"fill:#0000ff;stroke:#0000ff;\" x=\"74.245151\" xlink:href=\"#m68313d24e5\" y=\"420.274273\"/>\r\n     <use style=\"fill:#0000ff;stroke:#0000ff;\" x=\"76.121791\" xlink:href=\"#m68313d24e5\" y=\"437.225855\"/>\r\n     <use style=\"fill:#0000ff;stroke:#0000ff;\" x=\"77.998455\" xlink:href=\"#m68313d24e5\" y=\"410.656359\"/>\r\n     <use style=\"fill:#0000ff;stroke:#0000ff;\" x=\"79.875095\" xlink:href=\"#m68313d24e5\" y=\"435.080338\"/>\r\n     <use style=\"fill:#0000ff;stroke:#0000ff;\" x=\"81.751735\" xlink:href=\"#m68313d24e5\" y=\"407.933408\"/>\r\n     <use style=\"fill:#0000ff;stroke:#0000ff;\" x=\"83.628399\" xlink:href=\"#m68313d24e5\" y=\"465.221759\"/>\r\n     <use style=\"fill:#0000ff;stroke:#0000ff;\" x=\"85.505039\" xlink:href=\"#m68313d24e5\" y=\"472.565658\"/>\r\n     <use style=\"fill:#0000ff;stroke:#0000ff;\" x=\"87.381703\" xlink:href=\"#m68313d24e5\" y=\"477.546684\"/>\r\n     <use style=\"fill:#0000ff;stroke:#0000ff;\" x=\"89.258343\" xlink:href=\"#m68313d24e5\" y=\"454.565153\"/>\r\n     <use style=\"fill:#0000ff;stroke:#0000ff;\" x=\"91.134983\" xlink:href=\"#m68313d24e5\" y=\"520.018125\"/>\r\n     <use style=\"fill:#0000ff;stroke:#0000ff;\" x=\"93.011646\" xlink:href=\"#m68313d24e5\" y=\"447.928433\"/>\r\n     <use style=\"fill:#0000ff;stroke:#0000ff;\" x=\"94.888286\" xlink:href=\"#m68313d24e5\" y=\"459.696085\"/>\r\n     <use style=\"fill:#0000ff;stroke:#0000ff;\" x=\"96.764926\" xlink:href=\"#m68313d24e5\" y=\"433.357132\"/>\r\n     <use style=\"fill:#0000ff;stroke:#0000ff;\" x=\"98.64159\" xlink:href=\"#m68313d24e5\" y=\"445.038861\"/>\r\n     <use style=\"fill:#0000ff;stroke:#0000ff;\" x=\"100.51823\" xlink:href=\"#m68313d24e5\" y=\"444.823354\"/>\r\n     <use style=\"fill:#0000ff;stroke:#0000ff;\" x=\"102.394894\" xlink:href=\"#m68313d24e5\" y=\"483.57218\"/>\r\n     <use style=\"fill:#0000ff;stroke:#0000ff;\" x=\"104.271534\" xlink:href=\"#m68313d24e5\" y=\"509.186134\"/>\r\n     <use style=\"fill:#0000ff;stroke:#0000ff;\" x=\"106.148174\" xlink:href=\"#m68313d24e5\" y=\"456.903815\"/>\r\n     <use style=\"fill:#0000ff;stroke:#0000ff;\" x=\"108.024838\" xlink:href=\"#m68313d24e5\" y=\"421.556825\"/>\r\n     <use style=\"fill:#0000ff;stroke:#0000ff;\" x=\"109.901478\" xlink:href=\"#m68313d24e5\" y=\"403.138733\"/>\r\n     <use style=\"fill:#0000ff;stroke:#0000ff;\" x=\"111.778117\" xlink:href=\"#m68313d24e5\" y=\"447.923699\"/>\r\n     <use style=\"fill:#0000ff;stroke:#0000ff;\" x=\"113.654781\" xlink:href=\"#m68313d24e5\" y=\"385.432774\"/>\r\n     <use style=\"fill:#0000ff;stroke:#0000ff;\" x=\"115.531421\" xlink:href=\"#m68313d24e5\" y=\"481.71143\"/>\r\n     <use style=\"fill:#0000ff;stroke:#0000ff;\" x=\"117.408085\" xlink:href=\"#m68313d24e5\" y=\"390.587808\"/>\r\n     <use style=\"fill:#0000ff;stroke:#0000ff;\" x=\"119.284725\" xlink:href=\"#m68313d24e5\" y=\"421.731115\"/>\r\n     <use style=\"fill:#0000ff;stroke:#0000ff;\" x=\"121.161365\" xlink:href=\"#m68313d24e5\" y=\"431.731117\"/>\r\n     <use style=\"fill:#0000ff;stroke:#0000ff;\" x=\"123.038029\" xlink:href=\"#m68313d24e5\" y=\"441.885378\"/>\r\n     <use style=\"fill:#0000ff;stroke:#0000ff;\" x=\"124.914669\" xlink:href=\"#m68313d24e5\" y=\"372.689227\"/>\r\n     <use style=\"fill:#0000ff;stroke:#0000ff;\" x=\"126.791309\" xlink:href=\"#m68313d24e5\" y=\"379.684367\"/>\r\n     <use style=\"fill:#0000ff;stroke:#0000ff;\" x=\"128.667973\" xlink:href=\"#m68313d24e5\" y=\"410.762545\"/>\r\n     <use style=\"fill:#0000ff;stroke:#0000ff;\" x=\"130.544612\" xlink:href=\"#m68313d24e5\" y=\"442.715979\"/>\r\n     <use style=\"fill:#0000ff;stroke:#0000ff;\" x=\"132.421276\" xlink:href=\"#m68313d24e5\" y=\"405.769971\"/>\r\n     <use style=\"fill:#0000ff;stroke:#0000ff;\" x=\"134.297916\" xlink:href=\"#m68313d24e5\" y=\"390.051351\"/>\r\n     <use style=\"fill:#0000ff;stroke:#0000ff;\" x=\"136.174556\" xlink:href=\"#m68313d24e5\" y=\"467.034225\"/>\r\n     <use style=\"fill:#0000ff;stroke:#0000ff;\" x=\"138.05122\" xlink:href=\"#m68313d24e5\" y=\"440.575599\"/>\r\n     <use style=\"fill:#0000ff;stroke:#0000ff;\" x=\"139.92786\" xlink:href=\"#m68313d24e5\" y=\"431.728363\"/>\r\n     <use style=\"fill:#0000ff;stroke:#0000ff;\" x=\"141.8045\" xlink:href=\"#m68313d24e5\" y=\"394.574767\"/>\r\n     <use style=\"fill:#0000ff;stroke:#0000ff;\" x=\"143.681164\" xlink:href=\"#m68313d24e5\" y=\"458.800204\"/>\r\n     <use style=\"fill:#0000ff;stroke:#0000ff;\" x=\"145.557804\" xlink:href=\"#m68313d24e5\" y=\"412.126719\"/>\r\n     <use style=\"fill:#0000ff;stroke:#0000ff;\" x=\"147.434468\" xlink:href=\"#m68313d24e5\" y=\"366.309705\"/>\r\n     <use style=\"fill:#0000ff;stroke:#0000ff;\" x=\"149.311107\" xlink:href=\"#m68313d24e5\" y=\"394.500593\"/>\r\n     <use style=\"fill:#0000ff;stroke:#0000ff;\" x=\"151.187747\" xlink:href=\"#m68313d24e5\" y=\"414.151687\"/>\r\n     <use style=\"fill:#0000ff;stroke:#0000ff;\" x=\"153.064411\" xlink:href=\"#m68313d24e5\" y=\"332.431788\"/>\r\n     <use style=\"fill:#0000ff;stroke:#0000ff;\" x=\"154.941051\" xlink:href=\"#m68313d24e5\" y=\"423.025245\"/>\r\n     <use style=\"fill:#0000ff;stroke:#0000ff;\" x=\"156.817691\" xlink:href=\"#m68313d24e5\" y=\"415.003013\"/>\r\n     <use style=\"fill:#0000ff;stroke:#0000ff;\" x=\"158.694355\" xlink:href=\"#m68313d24e5\" y=\"384.268881\"/>\r\n     <use style=\"fill:#0000ff;stroke:#0000ff;\" x=\"160.570995\" xlink:href=\"#m68313d24e5\" y=\"434.363672\"/>\r\n     <use style=\"fill:#0000ff;stroke:#0000ff;\" x=\"162.447635\" xlink:href=\"#m68313d24e5\" y=\"407.885366\"/>\r\n     <use style=\"fill:#0000ff;stroke:#0000ff;\" x=\"164.324299\" xlink:href=\"#m68313d24e5\" y=\"375.965249\"/>\r\n     <use style=\"fill:#0000ff;stroke:#0000ff;\" x=\"166.200939\" xlink:href=\"#m68313d24e5\" y=\"442.073819\"/>\r\n     <use style=\"fill:#0000ff;stroke:#0000ff;\" x=\"168.077602\" xlink:href=\"#m68313d24e5\" y=\"387.593046\"/>\r\n     <use style=\"fill:#0000ff;stroke:#0000ff;\" x=\"169.954242\" xlink:href=\"#m68313d24e5\" y=\"383.85443\"/>\r\n     <use style=\"fill:#0000ff;stroke:#0000ff;\" x=\"171.830882\" xlink:href=\"#m68313d24e5\" y=\"402.90832\"/>\r\n     <use style=\"fill:#0000ff;stroke:#0000ff;\" x=\"173.707546\" xlink:href=\"#m68313d24e5\" y=\"337.69731\"/>\r\n     <use style=\"fill:#0000ff;stroke:#0000ff;\" x=\"175.584186\" xlink:href=\"#m68313d24e5\" y=\"446.686345\"/>\r\n     <use style=\"fill:#0000ff;stroke:#0000ff;\" x=\"177.460826\" xlink:href=\"#m68313d24e5\" y=\"341.446368\"/>\r\n     <use style=\"fill:#0000ff;stroke:#0000ff;\" x=\"179.33749\" xlink:href=\"#m68313d24e5\" y=\"371.223742\"/>\r\n     <use style=\"fill:#0000ff;stroke:#0000ff;\" x=\"181.21413\" xlink:href=\"#m68313d24e5\" y=\"421.273405\"/>\r\n     <use style=\"fill:#0000ff;stroke:#0000ff;\" x=\"183.090794\" xlink:href=\"#m68313d24e5\" y=\"322.939247\"/>\r\n     <use style=\"fill:#0000ff;stroke:#0000ff;\" x=\"184.967434\" xlink:href=\"#m68313d24e5\" y=\"381.981539\"/>\r\n     <use style=\"fill:#0000ff;stroke:#0000ff;\" x=\"186.844073\" xlink:href=\"#m68313d24e5\" y=\"329.583113\"/>\r\n     <use style=\"fill:#0000ff;stroke:#0000ff;\" x=\"188.720737\" xlink:href=\"#m68313d24e5\" y=\"360.548774\"/>\r\n     <use style=\"fill:#0000ff;stroke:#0000ff;\" x=\"190.597377\" xlink:href=\"#m68313d24e5\" y=\"370.249425\"/>\r\n     <use style=\"fill:#0000ff;stroke:#0000ff;\" x=\"192.474017\" xlink:href=\"#m68313d24e5\" y=\"325.391371\"/>\r\n     <use style=\"fill:#0000ff;stroke:#0000ff;\" x=\"194.350681\" xlink:href=\"#m68313d24e5\" y=\"368.779287\"/>\r\n     <use style=\"fill:#0000ff;stroke:#0000ff;\" x=\"196.227321\" xlink:href=\"#m68313d24e5\" y=\"324.365022\"/>\r\n     <use style=\"fill:#0000ff;stroke:#0000ff;\" x=\"198.103985\" xlink:href=\"#m68313d24e5\" y=\"334.566993\"/>\r\n     <use style=\"fill:#0000ff;stroke:#0000ff;\" x=\"199.980625\" xlink:href=\"#m68313d24e5\" y=\"389.47247\"/>\r\n     <use style=\"fill:#0000ff;stroke:#0000ff;\" x=\"201.857265\" xlink:href=\"#m68313d24e5\" y=\"378.182277\"/>\r\n     <use style=\"fill:#0000ff;stroke:#0000ff;\" x=\"203.733929\" xlink:href=\"#m68313d24e5\" y=\"345.262897\"/>\r\n     <use style=\"fill:#0000ff;stroke:#0000ff;\" x=\"205.610568\" xlink:href=\"#m68313d24e5\" y=\"342.268658\"/>\r\n     <use style=\"fill:#0000ff;stroke:#0000ff;\" x=\"207.487208\" xlink:href=\"#m68313d24e5\" y=\"335.043126\"/>\r\n     <use style=\"fill:#0000ff;stroke:#0000ff;\" x=\"209.363872\" xlink:href=\"#m68313d24e5\" y=\"351.812569\"/>\r\n     <use style=\"fill:#0000ff;stroke:#0000ff;\" x=\"211.240512\" xlink:href=\"#m68313d24e5\" y=\"343.309661\"/>\r\n     <use style=\"fill:#0000ff;stroke:#0000ff;\" x=\"213.117176\" xlink:href=\"#m68313d24e5\" y=\"261.654107\"/>\r\n     <use style=\"fill:#0000ff;stroke:#0000ff;\" x=\"214.993816\" xlink:href=\"#m68313d24e5\" y=\"376.901483\"/>\r\n     <use style=\"fill:#0000ff;stroke:#0000ff;\" x=\"216.870456\" xlink:href=\"#m68313d24e5\" y=\"324.953964\"/>\r\n     <use style=\"fill:#0000ff;stroke:#0000ff;\" x=\"218.74712\" xlink:href=\"#m68313d24e5\" y=\"294.817377\"/>\r\n     <use style=\"fill:#0000ff;stroke:#0000ff;\" x=\"220.62376\" xlink:href=\"#m68313d24e5\" y=\"288.772433\"/>\r\n     <use style=\"fill:#0000ff;stroke:#0000ff;\" x=\"222.5004\" xlink:href=\"#m68313d24e5\" y=\"302.551746\"/>\r\n     <use style=\"fill:#0000ff;stroke:#0000ff;\" x=\"224.377063\" xlink:href=\"#m68313d24e5\" y=\"321.512648\"/>\r\n     <use style=\"fill:#0000ff;stroke:#0000ff;\" x=\"226.253703\" xlink:href=\"#m68313d24e5\" y=\"307.353859\"/>\r\n     <use style=\"fill:#0000ff;stroke:#0000ff;\" x=\"228.130367\" xlink:href=\"#m68313d24e5\" y=\"328.395028\"/>\r\n     <use style=\"fill:#0000ff;stroke:#0000ff;\" x=\"230.007007\" xlink:href=\"#m68313d24e5\" y=\"387.856395\"/>\r\n     <use style=\"fill:#0000ff;stroke:#0000ff;\" x=\"231.883647\" xlink:href=\"#m68313d24e5\" y=\"373.018911\"/>\r\n     <use style=\"fill:#0000ff;stroke:#0000ff;\" x=\"233.760311\" xlink:href=\"#m68313d24e5\" y=\"318.427519\"/>\r\n     <use style=\"fill:#0000ff;stroke:#0000ff;\" x=\"235.636951\" xlink:href=\"#m68313d24e5\" y=\"308.213507\"/>\r\n     <use style=\"fill:#0000ff;stroke:#0000ff;\" x=\"237.513591\" xlink:href=\"#m68313d24e5\" y=\"328.939485\"/>\r\n     <use style=\"fill:#0000ff;stroke:#0000ff;\" x=\"239.390255\" xlink:href=\"#m68313d24e5\" y=\"332.265369\"/>\r\n     <use style=\"fill:#0000ff;stroke:#0000ff;\" x=\"241.266895\" xlink:href=\"#m68313d24e5\" y=\"348.744466\"/>\r\n     <use style=\"fill:#0000ff;stroke:#0000ff;\" x=\"243.143558\" xlink:href=\"#m68313d24e5\" y=\"365.539347\"/>\r\n     <use style=\"fill:#0000ff;stroke:#0000ff;\" x=\"245.020198\" xlink:href=\"#m68313d24e5\" y=\"283.976843\"/>\r\n     <use style=\"fill:#0000ff;stroke:#0000ff;\" x=\"246.896838\" xlink:href=\"#m68313d24e5\" y=\"306.740042\"/>\r\n     <use style=\"fill:#0000ff;stroke:#0000ff;\" x=\"248.773502\" xlink:href=\"#m68313d24e5\" y=\"340.452674\"/>\r\n     <use style=\"fill:#0000ff;stroke:#0000ff;\" x=\"250.650142\" xlink:href=\"#m68313d24e5\" y=\"315.637882\"/>\r\n     <use style=\"fill:#0000ff;stroke:#0000ff;\" x=\"252.526782\" xlink:href=\"#m68313d24e5\" y=\"313.721964\"/>\r\n     <use style=\"fill:#0000ff;stroke:#0000ff;\" x=\"254.403446\" xlink:href=\"#m68313d24e5\" y=\"366.241862\"/>\r\n     <use style=\"fill:#0000ff;stroke:#0000ff;\" x=\"256.280086\" xlink:href=\"#m68313d24e5\" y=\"317.02264\"/>\r\n     <use style=\"fill:#0000ff;stroke:#0000ff;\" x=\"258.156726\" xlink:href=\"#m68313d24e5\" y=\"270.104369\"/>\r\n     <use style=\"fill:#0000ff;stroke:#0000ff;\" x=\"260.03339\" xlink:href=\"#m68313d24e5\" y=\"300.18631\"/>\r\n     <use style=\"fill:#0000ff;stroke:#0000ff;\" x=\"261.910029\" xlink:href=\"#m68313d24e5\" y=\"339.462537\"/>\r\n     <use style=\"fill:#0000ff;stroke:#0000ff;\" x=\"263.786693\" xlink:href=\"#m68313d24e5\" y=\"263.445879\"/>\r\n     <use style=\"fill:#0000ff;stroke:#0000ff;\" x=\"265.663333\" xlink:href=\"#m68313d24e5\" y=\"314.368527\"/>\r\n     <use style=\"fill:#0000ff;stroke:#0000ff;\" x=\"267.539973\" xlink:href=\"#m68313d24e5\" y=\"375.06971\"/>\r\n     <use style=\"fill:#0000ff;stroke:#0000ff;\" x=\"269.416637\" xlink:href=\"#m68313d24e5\" y=\"314.102595\"/>\r\n     <use style=\"fill:#0000ff;stroke:#0000ff;\" x=\"271.293277\" xlink:href=\"#m68313d24e5\" y=\"294.319505\"/>\r\n     <use style=\"fill:#0000ff;stroke:#0000ff;\" x=\"273.169917\" xlink:href=\"#m68313d24e5\" y=\"299.480156\"/>\r\n     <use style=\"fill:#0000ff;stroke:#0000ff;\" x=\"275.046581\" xlink:href=\"#m68313d24e5\" y=\"271.950626\"/>\r\n     <use style=\"fill:#0000ff;stroke:#0000ff;\" x=\"276.923221\" xlink:href=\"#m68313d24e5\" y=\"214.979988\"/>\r\n     <use style=\"fill:#0000ff;stroke:#0000ff;\" x=\"278.799885\" xlink:href=\"#m68313d24e5\" y=\"259.903041\"/>\r\n     <use style=\"fill:#0000ff;stroke:#0000ff;\" x=\"280.676524\" xlink:href=\"#m68313d24e5\" y=\"320.392214\"/>\r\n     <use style=\"fill:#0000ff;stroke:#0000ff;\" x=\"282.553164\" xlink:href=\"#m68313d24e5\" y=\"324.670614\"/>\r\n     <use style=\"fill:#0000ff;stroke:#0000ff;\" x=\"284.429828\" xlink:href=\"#m68313d24e5\" y=\"302.365084\"/>\r\n     <use style=\"fill:#0000ff;stroke:#0000ff;\" x=\"286.306468\" xlink:href=\"#m68313d24e5\" y=\"277.160717\"/>\r\n     <use style=\"fill:#0000ff;stroke:#0000ff;\" x=\"288.183108\" xlink:href=\"#m68313d24e5\" y=\"273.816461\"/>\r\n     <use style=\"fill:#0000ff;stroke:#0000ff;\" x=\"290.059772\" xlink:href=\"#m68313d24e5\" y=\"277.930401\"/>\r\n     <use style=\"fill:#0000ff;stroke:#0000ff;\" x=\"291.936412\" xlink:href=\"#m68313d24e5\" y=\"295.564859\"/>\r\n     <use style=\"fill:#0000ff;stroke:#0000ff;\" x=\"293.813076\" xlink:href=\"#m68313d24e5\" y=\"282.139883\"/>\r\n     <use style=\"fill:#0000ff;stroke:#0000ff;\" x=\"295.689716\" xlink:href=\"#m68313d24e5\" y=\"300.010352\"/>\r\n     <use style=\"fill:#0000ff;stroke:#0000ff;\" x=\"297.566356\" xlink:href=\"#m68313d24e5\" y=\"288.745256\"/>\r\n     <use style=\"fill:#0000ff;stroke:#0000ff;\" x=\"299.443019\" xlink:href=\"#m68313d24e5\" y=\"314.95779\"/>\r\n     <use style=\"fill:#0000ff;stroke:#0000ff;\" x=\"301.319659\" xlink:href=\"#m68313d24e5\" y=\"269.884399\"/>\r\n     <use style=\"fill:#0000ff;stroke:#0000ff;\" x=\"303.196299\" xlink:href=\"#m68313d24e5\" y=\"262.295664\"/>\r\n     <use style=\"fill:#0000ff;stroke:#0000ff;\" x=\"305.072963\" xlink:href=\"#m68313d24e5\" y=\"260.503149\"/>\r\n     <use style=\"fill:#0000ff;stroke:#0000ff;\" x=\"306.949603\" xlink:href=\"#m68313d24e5\" y=\"304.511476\"/>\r\n     <use style=\"fill:#0000ff;stroke:#0000ff;\" x=\"308.826267\" xlink:href=\"#m68313d24e5\" y=\"220.93334\"/>\r\n     <use style=\"fill:#0000ff;stroke:#0000ff;\" x=\"310.702907\" xlink:href=\"#m68313d24e5\" y=\"262.711814\"/>\r\n     <use style=\"fill:#0000ff;stroke:#0000ff;\" x=\"312.579547\" xlink:href=\"#m68313d24e5\" y=\"233.485632\"/>\r\n     <use style=\"fill:#0000ff;stroke:#0000ff;\" x=\"314.456211\" xlink:href=\"#m68313d24e5\" y=\"227.703112\"/>\r\n     <use style=\"fill:#0000ff;stroke:#0000ff;\" x=\"316.332851\" xlink:href=\"#m68313d24e5\" y=\"301.037686\"/>\r\n     <use style=\"fill:#0000ff;stroke:#0000ff;\" x=\"318.20949\" xlink:href=\"#m68313d24e5\" y=\"305.814612\"/>\r\n     <use style=\"fill:#0000ff;stroke:#0000ff;\" x=\"320.086154\" xlink:href=\"#m68313d24e5\" y=\"321.007629\"/>\r\n     <use style=\"fill:#0000ff;stroke:#0000ff;\" x=\"321.962794\" xlink:href=\"#m68313d24e5\" y=\"240.123227\"/>\r\n     <use style=\"fill:#0000ff;stroke:#0000ff;\" x=\"323.839458\" xlink:href=\"#m68313d24e5\" y=\"267.939967\"/>\r\n     <use style=\"fill:#0000ff;stroke:#0000ff;\" x=\"325.716098\" xlink:href=\"#m68313d24e5\" y=\"220.457408\"/>\r\n     <use style=\"fill:#0000ff;stroke:#0000ff;\" x=\"327.592738\" xlink:href=\"#m68313d24e5\" y=\"272.562212\"/>\r\n     <use style=\"fill:#0000ff;stroke:#0000ff;\" x=\"329.469402\" xlink:href=\"#m68313d24e5\" y=\"246.710046\"/>\r\n     <use style=\"fill:#0000ff;stroke:#0000ff;\" x=\"331.346042\" xlink:href=\"#m68313d24e5\" y=\"243.474438\"/>\r\n     <use style=\"fill:#0000ff;stroke:#0000ff;\" x=\"333.222682\" xlink:href=\"#m68313d24e5\" y=\"279.244744\"/>\r\n     <use style=\"fill:#0000ff;stroke:#0000ff;\" x=\"335.099346\" xlink:href=\"#m68313d24e5\" y=\"253.066753\"/>\r\n     <use style=\"fill:#0000ff;stroke:#0000ff;\" x=\"336.975985\" xlink:href=\"#m68313d24e5\" y=\"230.341717\"/>\r\n     <use style=\"fill:#0000ff;stroke:#0000ff;\" x=\"338.852649\" xlink:href=\"#m68313d24e5\" y=\"256.723828\"/>\r\n     <use style=\"fill:#0000ff;stroke:#0000ff;\" x=\"340.729289\" xlink:href=\"#m68313d24e5\" y=\"286.318861\"/>\r\n     <use style=\"fill:#0000ff;stroke:#0000ff;\" x=\"342.605929\" xlink:href=\"#m68313d24e5\" y=\"238.502197\"/>\r\n     <use style=\"fill:#0000ff;stroke:#0000ff;\" x=\"344.482593\" xlink:href=\"#m68313d24e5\" y=\"253.163893\"/>\r\n     <use style=\"fill:#0000ff;stroke:#0000ff;\" x=\"346.359233\" xlink:href=\"#m68313d24e5\" y=\"236.282727\"/>\r\n     <use style=\"fill:#0000ff;stroke:#0000ff;\" x=\"348.235873\" xlink:href=\"#m68313d24e5\" y=\"202.335732\"/>\r\n     <use style=\"fill:#0000ff;stroke:#0000ff;\" x=\"350.112537\" xlink:href=\"#m68313d24e5\" y=\"233.827567\"/>\r\n     <use style=\"fill:#0000ff;stroke:#0000ff;\" x=\"351.989177\" xlink:href=\"#m68313d24e5\" y=\"219.047142\"/>\r\n     <use style=\"fill:#0000ff;stroke:#0000ff;\" x=\"353.865817\" xlink:href=\"#m68313d24e5\" y=\"266.24027\"/>\r\n     <use style=\"fill:#0000ff;stroke:#0000ff;\" x=\"355.74248\" xlink:href=\"#m68313d24e5\" y=\"256.881232\"/>\r\n     <use style=\"fill:#0000ff;stroke:#0000ff;\" x=\"357.61912\" xlink:href=\"#m68313d24e5\" y=\"223.842319\"/>\r\n     <use style=\"fill:#0000ff;stroke:#0000ff;\" x=\"359.495784\" xlink:href=\"#m68313d24e5\" y=\"285.16533\"/>\r\n     <use style=\"fill:#0000ff;stroke:#0000ff;\" x=\"361.372424\" xlink:href=\"#m68313d24e5\" y=\"212.160048\"/>\r\n     <use style=\"fill:#0000ff;stroke:#0000ff;\" x=\"363.249064\" xlink:href=\"#m68313d24e5\" y=\"267.849289\"/>\r\n     <use style=\"fill:#0000ff;stroke:#0000ff;\" x=\"365.125728\" xlink:href=\"#m68313d24e5\" y=\"196.119915\"/>\r\n     <use style=\"fill:#0000ff;stroke:#0000ff;\" x=\"367.002368\" xlink:href=\"#m68313d24e5\" y=\"286.840152\"/>\r\n     <use style=\"fill:#0000ff;stroke:#0000ff;\" x=\"368.879008\" xlink:href=\"#m68313d24e5\" y=\"245.845201\"/>\r\n     <use style=\"fill:#0000ff;stroke:#0000ff;\" x=\"370.755672\" xlink:href=\"#m68313d24e5\" y=\"201.686214\"/>\r\n     <use style=\"fill:#0000ff;stroke:#0000ff;\" x=\"372.632312\" xlink:href=\"#m68313d24e5\" y=\"157.190166\"/>\r\n     <use style=\"fill:#0000ff;stroke:#0000ff;\" x=\"374.508975\" xlink:href=\"#m68313d24e5\" y=\"208.32194\"/>\r\n     <use style=\"fill:#0000ff;stroke:#0000ff;\" x=\"376.385615\" xlink:href=\"#m68313d24e5\" y=\"167.26172\"/>\r\n     <use style=\"fill:#0000ff;stroke:#0000ff;\" x=\"378.262255\" xlink:href=\"#m68313d24e5\" y=\"207.181324\"/>\r\n     <use style=\"fill:#0000ff;stroke:#0000ff;\" x=\"380.138919\" xlink:href=\"#m68313d24e5\" y=\"218.814638\"/>\r\n     <use style=\"fill:#0000ff;stroke:#0000ff;\" x=\"382.015559\" xlink:href=\"#m68313d24e5\" y=\"242.643987\"/>\r\n     <use style=\"fill:#0000ff;stroke:#0000ff;\" x=\"383.892199\" xlink:href=\"#m68313d24e5\" y=\"204.652433\"/>\r\n     <use style=\"fill:#0000ff;stroke:#0000ff;\" x=\"385.768863\" xlink:href=\"#m68313d24e5\" y=\"162.808086\"/>\r\n     <use style=\"fill:#0000ff;stroke:#0000ff;\" x=\"387.645503\" xlink:href=\"#m68313d24e5\" y=\"177.784108\"/>\r\n     <use style=\"fill:#0000ff;stroke:#0000ff;\" x=\"389.522167\" xlink:href=\"#m68313d24e5\" y=\"204.63614\"/>\r\n     <use style=\"fill:#0000ff;stroke:#0000ff;\" x=\"391.398807\" xlink:href=\"#m68313d24e5\" y=\"250.071438\"/>\r\n     <use style=\"fill:#0000ff;stroke:#0000ff;\" x=\"393.275446\" xlink:href=\"#m68313d24e5\" y=\"164.516828\"/>\r\n     <use style=\"fill:#0000ff;stroke:#0000ff;\" x=\"395.15211\" xlink:href=\"#m68313d24e5\" y=\"191.895418\"/>\r\n     <use style=\"fill:#0000ff;stroke:#0000ff;\" x=\"397.02875\" xlink:href=\"#m68313d24e5\" y=\"179.927012\"/>\r\n     <use style=\"fill:#0000ff;stroke:#0000ff;\" x=\"398.90539\" xlink:href=\"#m68313d24e5\" y=\"146.885225\"/>\r\n     <use style=\"fill:#0000ff;stroke:#0000ff;\" x=\"400.782054\" xlink:href=\"#m68313d24e5\" y=\"153.428444\"/>\r\n     <use style=\"fill:#0000ff;stroke:#0000ff;\" x=\"402.658694\" xlink:href=\"#m68313d24e5\" y=\"169.56441\"/>\r\n     <use style=\"fill:#0000ff;stroke:#0000ff;\" x=\"404.535358\" xlink:href=\"#m68313d24e5\" y=\"178.775049\"/>\r\n     <use style=\"fill:#0000ff;stroke:#0000ff;\" x=\"406.411998\" xlink:href=\"#m68313d24e5\" y=\"187.301103\"/>\r\n     <use style=\"fill:#0000ff;stroke:#0000ff;\" x=\"408.288638\" xlink:href=\"#m68313d24e5\" y=\"150.937243\"/>\r\n     <use style=\"fill:#0000ff;stroke:#0000ff;\" x=\"410.165302\" xlink:href=\"#m68313d24e5\" y=\"180.819858\"/>\r\n     <use style=\"fill:#0000ff;stroke:#0000ff;\" x=\"412.041941\" xlink:href=\"#m68313d24e5\" y=\"114.417977\"/>\r\n     <use style=\"fill:#0000ff;stroke:#0000ff;\" x=\"413.918581\" xlink:href=\"#m68313d24e5\" y=\"126.483031\"/>\r\n     <use style=\"fill:#0000ff;stroke:#0000ff;\" x=\"415.795245\" xlink:href=\"#m68313d24e5\" y=\"175.210863\"/>\r\n     <use style=\"fill:#0000ff;stroke:#0000ff;\" x=\"417.671885\" xlink:href=\"#m68313d24e5\" y=\"147.471644\"/>\r\n     <use style=\"fill:#0000ff;stroke:#0000ff;\" x=\"419.548549\" xlink:href=\"#m68313d24e5\" y=\"140.452142\"/>\r\n     <use style=\"fill:#0000ff;stroke:#0000ff;\" x=\"421.425189\" xlink:href=\"#m68313d24e5\" y=\"193.321182\"/>\r\n     <use style=\"fill:#0000ff;stroke:#0000ff;\" x=\"423.301829\" xlink:href=\"#m68313d24e5\" y=\"166.229722\"/>\r\n     <use style=\"fill:#0000ff;stroke:#0000ff;\" x=\"425.178493\" xlink:href=\"#m68313d24e5\" y=\"178.328093\"/>\r\n     <use style=\"fill:#0000ff;stroke:#0000ff;\" x=\"427.055133\" xlink:href=\"#m68313d24e5\" y=\"115.387761\"/>\r\n     <use style=\"fill:#0000ff;stroke:#0000ff;\" x=\"428.931773\" xlink:href=\"#m68313d24e5\" y=\"99.919404\"/>\r\n     <use style=\"fill:#0000ff;stroke:#0000ff;\" x=\"430.808436\" xlink:href=\"#m68313d24e5\" y=\"156.29312\"/>\r\n     <use style=\"fill:#0000ff;stroke:#0000ff;\" x=\"432.685076\" xlink:href=\"#m68313d24e5\" y=\"178.030482\"/>\r\n     <use style=\"fill:#0000ff;stroke:#0000ff;\" x=\"434.56174\" xlink:href=\"#m68313d24e5\" y=\"142.999286\"/>\r\n     <use style=\"fill:#0000ff;stroke:#0000ff;\" x=\"436.43838\" xlink:href=\"#m68313d24e5\" y=\"188.279219\"/>\r\n     <use style=\"fill:#0000ff;stroke:#0000ff;\" x=\"438.31502\" xlink:href=\"#m68313d24e5\" y=\"166.961967\"/>\r\n     <use style=\"fill:#0000ff;stroke:#0000ff;\" x=\"440.191684\" xlink:href=\"#m68313d24e5\" y=\"160.676007\"/>\r\n     <use style=\"fill:#0000ff;stroke:#0000ff;\" x=\"442.068324\" xlink:href=\"#m68313d24e5\" y=\"159.885126\"/>\r\n     <use style=\"fill:#0000ff;stroke:#0000ff;\" x=\"443.944964\" xlink:href=\"#m68313d24e5\" y=\"188.172239\"/>\r\n     <use style=\"fill:#0000ff;stroke:#0000ff;\" x=\"445.821628\" xlink:href=\"#m68313d24e5\" y=\"175.23604\"/>\r\n     <use style=\"fill:#0000ff;stroke:#0000ff;\" x=\"447.698268\" xlink:href=\"#m68313d24e5\" y=\"159.795232\"/>\r\n     <use style=\"fill:#0000ff;stroke:#0000ff;\" x=\"449.574907\" xlink:href=\"#m68313d24e5\" y=\"154.580548\"/>\r\n     <use style=\"fill:#0000ff;stroke:#0000ff;\" x=\"451.451571\" xlink:href=\"#m68313d24e5\" y=\"140.163968\"/>\r\n     <use style=\"fill:#0000ff;stroke:#0000ff;\" x=\"453.328211\" xlink:href=\"#m68313d24e5\" y=\"151.505962\"/>\r\n     <use style=\"fill:#0000ff;stroke:#0000ff;\" x=\"455.204875\" xlink:href=\"#m68313d24e5\" y=\"166.255251\"/>\r\n     <use style=\"fill:#0000ff;stroke:#0000ff;\" x=\"457.081515\" xlink:href=\"#m68313d24e5\" y=\"145.66949\"/>\r\n     <use style=\"fill:#0000ff;stroke:#0000ff;\" x=\"458.958155\" xlink:href=\"#m68313d24e5\" y=\"162.227988\"/>\r\n     <use style=\"fill:#0000ff;stroke:#0000ff;\" x=\"460.834819\" xlink:href=\"#m68313d24e5\" y=\"134.979285\"/>\r\n     <use style=\"fill:#0000ff;stroke:#0000ff;\" x=\"462.711459\" xlink:href=\"#m68313d24e5\" y=\"134.394966\"/>\r\n     <use style=\"fill:#0000ff;stroke:#0000ff;\" x=\"464.588099\" xlink:href=\"#m68313d24e5\" y=\"146.088967\"/>\r\n     <use style=\"fill:#0000ff;stroke:#0000ff;\" x=\"466.464763\" xlink:href=\"#m68313d24e5\" y=\"148.20798\"/>\r\n     <use style=\"fill:#0000ff;stroke:#0000ff;\" x=\"468.341402\" xlink:href=\"#m68313d24e5\" y=\"106.801322\"/>\r\n     <use style=\"fill:#0000ff;stroke:#0000ff;\" x=\"470.218066\" xlink:href=\"#m68313d24e5\" y=\"111.532386\"/>\r\n     <use style=\"fill:#0000ff;stroke:#0000ff;\" x=\"472.094706\" xlink:href=\"#m68313d24e5\" y=\"152.163752\"/>\r\n     <use style=\"fill:#0000ff;stroke:#0000ff;\" x=\"473.971346\" xlink:href=\"#m68313d24e5\" y=\"131.430869\"/>\r\n     <use style=\"fill:#0000ff;stroke:#0000ff;\" x=\"475.84801\" xlink:href=\"#m68313d24e5\" y=\"174.777466\"/>\r\n     <use style=\"fill:#0000ff;stroke:#0000ff;\" x=\"477.72465\" xlink:href=\"#m68313d24e5\" y=\"142.912126\"/>\r\n     <use style=\"fill:#0000ff;stroke:#0000ff;\" x=\"479.60129\" xlink:href=\"#m68313d24e5\" y=\"143.157434\"/>\r\n     <use style=\"fill:#0000ff;stroke:#0000ff;\" x=\"481.477954\" xlink:href=\"#m68313d24e5\" y=\"110.654838\"/>\r\n     <use style=\"fill:#0000ff;stroke:#0000ff;\" x=\"483.354594\" xlink:href=\"#m68313d24e5\" y=\"151.074706\"/>\r\n     <use style=\"fill:#0000ff;stroke:#0000ff;\" x=\"485.231258\" xlink:href=\"#m68313d24e5\" y=\"114.75732\"/>\r\n     <use style=\"fill:#0000ff;stroke:#0000ff;\" x=\"487.107897\" xlink:href=\"#m68313d24e5\" y=\"79.762849\"/>\r\n     <use style=\"fill:#0000ff;stroke:#0000ff;\" x=\"488.984537\" xlink:href=\"#m68313d24e5\" y=\"109.62485\"/>\r\n     <use style=\"fill:#0000ff;stroke:#0000ff;\" x=\"490.861201\" xlink:href=\"#m68313d24e5\" y=\"109.438751\"/>\r\n     <use style=\"fill:#0000ff;stroke:#0000ff;\" x=\"492.737841\" xlink:href=\"#m68313d24e5\" y=\"120.765368\"/>\r\n     <use style=\"fill:#0000ff;stroke:#0000ff;\" x=\"494.614481\" xlink:href=\"#m68313d24e5\" y=\"124.748729\"/>\r\n     <use style=\"fill:#0000ff;stroke:#0000ff;\" x=\"496.491145\" xlink:href=\"#m68313d24e5\" y=\"164.589204\"/>\r\n     <use style=\"fill:#0000ff;stroke:#0000ff;\" x=\"498.367785\" xlink:href=\"#m68313d24e5\" y=\"150.834383\"/>\r\n     <use style=\"fill:#0000ff;stroke:#0000ff;\" x=\"500.244449\" xlink:href=\"#m68313d24e5\" y=\"100.48342\"/>\r\n     <use style=\"fill:#0000ff;stroke:#0000ff;\" x=\"502.121089\" xlink:href=\"#m68313d24e5\" y=\"103.672714\"/>\r\n     <use style=\"fill:#0000ff;stroke:#0000ff;\" x=\"503.997729\" xlink:href=\"#m68313d24e5\" y=\"111.269489\"/>\r\n     <use style=\"fill:#0000ff;stroke:#0000ff;\" x=\"505.874392\" xlink:href=\"#m68313d24e5\" y=\"111.324276\"/>\r\n     <use style=\"fill:#0000ff;stroke:#0000ff;\" x=\"507.751032\" xlink:href=\"#m68313d24e5\" y=\"46.018125\"/>\r\n     <use style=\"fill:#0000ff;stroke:#0000ff;\" x=\"509.627672\" xlink:href=\"#m68313d24e5\" y=\"106.030432\"/>\r\n     <use style=\"fill:#0000ff;stroke:#0000ff;\" x=\"511.504336\" xlink:href=\"#m68313d24e5\" y=\"82.301078\"/>\r\n     <use style=\"fill:#0000ff;stroke:#0000ff;\" x=\"513.380976\" xlink:href=\"#m68313d24e5\" y=\"84.494235\"/>\r\n     <use style=\"fill:#0000ff;stroke:#0000ff;\" x=\"515.25764\" xlink:href=\"#m68313d24e5\" y=\"70.782814\"/>\r\n     <use style=\"fill:#0000ff;stroke:#0000ff;\" x=\"517.13428\" xlink:href=\"#m68313d24e5\" y=\"94.880557\"/>\r\n     <use style=\"fill:#0000ff;stroke:#0000ff;\" x=\"519.01092\" xlink:href=\"#m68313d24e5\" y=\"73.763425\"/>\r\n     <use style=\"fill:#0000ff;stroke:#0000ff;\" x=\"520.887584\" xlink:href=\"#m68313d24e5\" y=\"91.750994\"/>\r\n     <use style=\"fill:#0000ff;stroke:#0000ff;\" x=\"522.764224\" xlink:href=\"#m68313d24e5\" y=\"55.126578\"/>\r\n     <use style=\"fill:#0000ff;stroke:#0000ff;\" x=\"524.640864\" xlink:href=\"#m68313d24e5\" y=\"91.609611\"/>\r\n     <use style=\"fill:#0000ff;stroke:#0000ff;\" x=\"526.517527\" xlink:href=\"#m68313d24e5\" y=\"129.797466\"/>\r\n     <use style=\"fill:#0000ff;stroke:#0000ff;\" x=\"528.394167\" xlink:href=\"#m68313d24e5\" y=\"65.210494\"/>\r\n     <use style=\"fill:#0000ff;stroke:#0000ff;\" x=\"530.270831\" xlink:href=\"#m68313d24e5\" y=\"74.342235\"/>\r\n     <use style=\"fill:#0000ff;stroke:#0000ff;\" x=\"532.147471\" xlink:href=\"#m68313d24e5\" y=\"79.496535\"/>\r\n     <use style=\"fill:#0000ff;stroke:#0000ff;\" x=\"534.024111\" xlink:href=\"#m68313d24e5\" y=\"148.687952\"/>\r\n     <use style=\"fill:#0000ff;stroke:#0000ff;\" x=\"535.900775\" xlink:href=\"#m68313d24e5\" y=\"91.51823\"/>\r\n     <use style=\"fill:#0000ff;stroke:#0000ff;\" x=\"537.777415\" xlink:href=\"#m68313d24e5\" y=\"131.491987\"/>\r\n    </g>\r\n   </g>\r\n   <g id=\"patch_3\">\r\n    <path d=\"M 35.304688 543.718125 \r\nL 35.304688 22.318125 \r\n\" style=\"fill:none;stroke:#000000;stroke-linecap:square;stroke-linejoin:miter;stroke-width:0.8;\"/>\r\n   </g>\r\n   <g id=\"patch_4\">\r\n    <path d=\"M 561.704687 543.718125 \r\nL 561.704687 22.318125 \r\n\" style=\"fill:none;stroke:#000000;stroke-linecap:square;stroke-linejoin:miter;stroke-width:0.8;\"/>\r\n   </g>\r\n   <g id=\"patch_5\">\r\n    <path d=\"M 35.304688 543.718125 \r\nL 561.704687 543.718125 \r\n\" style=\"fill:none;stroke:#000000;stroke-linecap:square;stroke-linejoin:miter;stroke-width:0.8;\"/>\r\n   </g>\r\n   <g id=\"patch_6\">\r\n    <path d=\"M 35.304688 22.318125 \r\nL 561.704687 22.318125 \r\n\" style=\"fill:none;stroke:#000000;stroke-linecap:square;stroke-linejoin:miter;stroke-width:0.8;\"/>\r\n   </g>\r\n   <g id=\"text_15\">\r\n    <!-- data points -->\r\n    <g transform=\"translate(264.655312 16.318125)scale(0.12 -0.12)\">\r\n     <defs>\r\n      <path d=\"M 2906 2969 \r\nL 2906 4863 \r\nL 3481 4863 \r\nL 3481 0 \r\nL 2906 0 \r\nL 2906 525 \r\nQ 2725 213 2448 61 \r\nQ 2172 -91 1784 -91 \r\nQ 1150 -91 751 415 \r\nQ 353 922 353 1747 \r\nQ 353 2572 751 3078 \r\nQ 1150 3584 1784 3584 \r\nQ 2172 3584 2448 3432 \r\nQ 2725 3281 2906 2969 \r\nz\r\nM 947 1747 \r\nQ 947 1113 1208 752 \r\nQ 1469 391 1925 391 \r\nQ 2381 391 2643 752 \r\nQ 2906 1113 2906 1747 \r\nQ 2906 2381 2643 2742 \r\nQ 2381 3103 1925 3103 \r\nQ 1469 3103 1208 2742 \r\nQ 947 2381 947 1747 \r\nz\r\n\" id=\"DejaVuSans-64\" transform=\"scale(0.015625)\"/>\r\n      <path d=\"M 2194 1759 \r\nQ 1497 1759 1228 1600 \r\nQ 959 1441 959 1056 \r\nQ 959 750 1161 570 \r\nQ 1363 391 1709 391 \r\nQ 2188 391 2477 730 \r\nQ 2766 1069 2766 1631 \r\nL 2766 1759 \r\nL 2194 1759 \r\nz\r\nM 3341 1997 \r\nL 3341 0 \r\nL 2766 0 \r\nL 2766 531 \r\nQ 2569 213 2275 61 \r\nQ 1981 -91 1556 -91 \r\nQ 1019 -91 701 211 \r\nQ 384 513 384 1019 \r\nQ 384 1609 779 1909 \r\nQ 1175 2209 1959 2209 \r\nL 2766 2209 \r\nL 2766 2266 \r\nQ 2766 2663 2505 2880 \r\nQ 2244 3097 1772 3097 \r\nQ 1472 3097 1187 3025 \r\nQ 903 2953 641 2809 \r\nL 641 3341 \r\nQ 956 3463 1253 3523 \r\nQ 1550 3584 1831 3584 \r\nQ 2591 3584 2966 3190 \r\nQ 3341 2797 3341 1997 \r\nz\r\n\" id=\"DejaVuSans-61\" transform=\"scale(0.015625)\"/>\r\n      <path d=\"M 1172 4494 \r\nL 1172 3500 \r\nL 2356 3500 \r\nL 2356 3053 \r\nL 1172 3053 \r\nL 1172 1153 \r\nQ 1172 725 1289 603 \r\nQ 1406 481 1766 481 \r\nL 2356 481 \r\nL 2356 0 \r\nL 1766 0 \r\nQ 1100 0 847 248 \r\nQ 594 497 594 1153 \r\nL 594 3053 \r\nL 172 3053 \r\nL 172 3500 \r\nL 594 3500 \r\nL 594 4494 \r\nL 1172 4494 \r\nz\r\n\" id=\"DejaVuSans-74\" transform=\"scale(0.015625)\"/>\r\n      <path id=\"DejaVuSans-20\" transform=\"scale(0.015625)\"/>\r\n      <path d=\"M 1159 525 \r\nL 1159 -1331 \r\nL 581 -1331 \r\nL 581 3500 \r\nL 1159 3500 \r\nL 1159 2969 \r\nQ 1341 3281 1617 3432 \r\nQ 1894 3584 2278 3584 \r\nQ 2916 3584 3314 3078 \r\nQ 3713 2572 3713 1747 \r\nQ 3713 922 3314 415 \r\nQ 2916 -91 2278 -91 \r\nQ 1894 -91 1617 61 \r\nQ 1341 213 1159 525 \r\nz\r\nM 3116 1747 \r\nQ 3116 2381 2855 2742 \r\nQ 2594 3103 2138 3103 \r\nQ 1681 3103 1420 2742 \r\nQ 1159 2381 1159 1747 \r\nQ 1159 1113 1420 752 \r\nQ 1681 391 2138 391 \r\nQ 2594 391 2855 752 \r\nQ 3116 1113 3116 1747 \r\nz\r\n\" id=\"DejaVuSans-70\" transform=\"scale(0.015625)\"/>\r\n      <path d=\"M 1959 3097 \r\nQ 1497 3097 1228 2736 \r\nQ 959 2375 959 1747 \r\nQ 959 1119 1226 758 \r\nQ 1494 397 1959 397 \r\nQ 2419 397 2687 759 \r\nQ 2956 1122 2956 1747 \r\nQ 2956 2369 2687 2733 \r\nQ 2419 3097 1959 3097 \r\nz\r\nM 1959 3584 \r\nQ 2709 3584 3137 3096 \r\nQ 3566 2609 3566 1747 \r\nQ 3566 888 3137 398 \r\nQ 2709 -91 1959 -91 \r\nQ 1206 -91 779 398 \r\nQ 353 888 353 1747 \r\nQ 353 2609 779 3096 \r\nQ 1206 3584 1959 3584 \r\nz\r\n\" id=\"DejaVuSans-6f\" transform=\"scale(0.015625)\"/>\r\n      <path d=\"M 603 3500 \r\nL 1178 3500 \r\nL 1178 0 \r\nL 603 0 \r\nL 603 3500 \r\nz\r\nM 603 4863 \r\nL 1178 4863 \r\nL 1178 4134 \r\nL 603 4134 \r\nL 603 4863 \r\nz\r\n\" id=\"DejaVuSans-69\" transform=\"scale(0.015625)\"/>\r\n      <path d=\"M 3513 2113 \r\nL 3513 0 \r\nL 2938 0 \r\nL 2938 2094 \r\nQ 2938 2591 2744 2837 \r\nQ 2550 3084 2163 3084 \r\nQ 1697 3084 1428 2787 \r\nQ 1159 2491 1159 1978 \r\nL 1159 0 \r\nL 581 0 \r\nL 581 3500 \r\nL 1159 3500 \r\nL 1159 2956 \r\nQ 1366 3272 1645 3428 \r\nQ 1925 3584 2291 3584 \r\nQ 2894 3584 3203 3211 \r\nQ 3513 2838 3513 2113 \r\nz\r\n\" id=\"DejaVuSans-6e\" transform=\"scale(0.015625)\"/>\r\n      <path d=\"M 2834 3397 \r\nL 2834 2853 \r\nQ 2591 2978 2328 3040 \r\nQ 2066 3103 1784 3103 \r\nQ 1356 3103 1142 2972 \r\nQ 928 2841 928 2578 \r\nQ 928 2378 1081 2264 \r\nQ 1234 2150 1697 2047 \r\nL 1894 2003 \r\nQ 2506 1872 2764 1633 \r\nQ 3022 1394 3022 966 \r\nQ 3022 478 2636 193 \r\nQ 2250 -91 1575 -91 \r\nQ 1294 -91 989 -36 \r\nQ 684 19 347 128 \r\nL 347 722 \r\nQ 666 556 975 473 \r\nQ 1284 391 1588 391 \r\nQ 1994 391 2212 530 \r\nQ 2431 669 2431 922 \r\nQ 2431 1156 2273 1281 \r\nQ 2116 1406 1581 1522 \r\nL 1381 1569 \r\nQ 847 1681 609 1914 \r\nQ 372 2147 372 2553 \r\nQ 372 3047 722 3315 \r\nQ 1072 3584 1716 3584 \r\nQ 2034 3584 2315 3537 \r\nQ 2597 3491 2834 3397 \r\nz\r\n\" id=\"DejaVuSans-73\" transform=\"scale(0.015625)\"/>\r\n     </defs>\r\n     <use xlink:href=\"#DejaVuSans-64\"/>\r\n     <use x=\"63.476562\" xlink:href=\"#DejaVuSans-61\"/>\r\n     <use x=\"124.755859\" xlink:href=\"#DejaVuSans-74\"/>\r\n     <use x=\"163.964844\" xlink:href=\"#DejaVuSans-61\"/>\r\n     <use x=\"225.244141\" xlink:href=\"#DejaVuSans-20\"/>\r\n     <use x=\"257.03125\" xlink:href=\"#DejaVuSans-70\"/>\r\n     <use x=\"320.507812\" xlink:href=\"#DejaVuSans-6f\"/>\r\n     <use x=\"381.689453\" xlink:href=\"#DejaVuSans-69\"/>\r\n     <use x=\"409.472656\" xlink:href=\"#DejaVuSans-6e\"/>\r\n     <use x=\"472.851562\" xlink:href=\"#DejaVuSans-74\"/>\r\n     <use x=\"512.060547\" xlink:href=\"#DejaVuSans-73\"/>\r\n    </g>\r\n   </g>\r\n  </g>\r\n </g>\r\n <defs>\r\n  <clipPath id=\"pbaf2bac9e2\">\r\n   <rect height=\"521.4\" width=\"526.4\" x=\"35.304688\" y=\"22.318125\"/>\r\n  </clipPath>\r\n </defs>\r\n</svg>\r\n",
      "image/png": "[encoded data removed]"
     },
     "metadata": {
      "needs_background": "light"
     }
    }
   ],
   "source": [
    "filename    = 'assignment_06_data.csv'\n",
    "data_load   = np.loadtxt(filename, delimiter = ',')\n",
    "\n",
    "x   = data_load[0, :]\n",
    "y   = data_load[1, :]\n",
    "\n",
    "plt.figure(figsize=(8,8))\n",
    "\n",
    "plt.plot(x, y, '.', color = 'blue')\n",
    "plt.title('data points')\n",
    "\n",
    "plt.tight_layout()\n",
    "plt.show()"
   ]
  },
  {
   "source": [
    "## compute the loss function"
   ],
   "cell_type": "markdown",
   "metadata": {}
  },
  {
   "cell_type": "code",
   "execution_count": 18,
   "metadata": {},
   "outputs": [],
   "source": [
    "def compute_loss(x, y, theta0, theta1):\n",
    "    i=1\n",
    "    n= x.size\n",
    "    for i in x.size : \n",
    "        loss += (theta0+theta1*x[i]-y[i])**2\n",
    "        \n",
    "\n",
    "    loss /= 2*(x.size)\n",
    "\n",
    "\n",
    "\n",
    "    \n",
    "    return loss"
   ]
  },
  {
   "source": [
    "## compute the gradient for each model parameter"
   ],
   "cell_type": "markdown",
   "metadata": {}
  },
  {
   "cell_type": "code",
   "execution_count": 20,
   "metadata": {},
   "outputs": [],
   "source": [
    "def compute_gradient_theta0(x, y, theta0, theta1):\n",
    "    for i in x.size :\n",
    "        dl += theta0+theta1*x[i]-y[i]\n",
    "\n",
    "    dl /=2\n",
    "            \n",
    "\n",
    "\n",
    "\n",
    "    \n",
    "    return dL"
   ]
  },
  {
   "cell_type": "code",
   "execution_count": 21,
   "metadata": {},
   "outputs": [],
   "source": [
    "def compute_gradient_theta1(x, y, theta0, theta1):\n",
    "    for i in x.size :\n",
    "        dl += (theta0+theta1*x[i]-y[i])*x[i]\n",
    "\n",
    "    Dl /=2\n",
    "\n",
    "\n",
    "    return dL"
   ]
  },
  {
   "source": [
    "## gradient descent for each model parameter"
   ],
   "cell_type": "markdown",
   "metadata": {}
  },
  {
   "cell_type": "code",
   "execution_count": null,
   "metadata": {
    "tags": [
     "outputPrepend"
    ]
   },
   "outputs": [],
   "source": [
    "num_iteration       = 1000\n",
    "learning_rate       = 0.01\n",
    "\n",
    "theta0              = 0\n",
    "theta1              = 0\n",
    "\n",
    "theta0_iteration    = np.zeros(num_iteration)\n",
    "theta1_iteration    = np.zeros(num_iteration)\n",
    "loss_iteration      = np.zeros(num_iteration)\n",
    "\n",
    "for i in range(num_iteration):\n",
    "\n",
    "    theta0  = \n",
    "    theta1  = \n",
    "    loss    = \n",
    "\n",
    "    theta0_iteration[i] = theta0\n",
    "    theta1_iteration[i] = theta1\n",
    "    loss_iteration[i]   = loss\n",
    "\n",
    "    print(\"iteration = %4d, loss = %5.5f\" % (i, loss))"
   ]
  },
  {
   "cell_type": "code",
   "execution_count": null,
   "metadata": {},
   "outputs": [],
   "source": [
    "f = "
   ]
  },
  {
   "source": [
    "## plot the results"
   ],
   "cell_type": "markdown",
   "metadata": {}
  },
  {
   "source": [
    "def plot_data_regression(x, y, f):\n",
    "\n",
    "    plt.figure(figsize=(8,6))\n",
    "    plt.title('linear regression result')\n",
    "\n",
    "    \n",
    "    plt.tight_layout()\n",
    "    plt.show()"
   ],
   "cell_type": "code",
   "metadata": {},
   "execution_count": null,
   "outputs": []
  },
  {
   "cell_type": "code",
   "execution_count": null,
   "metadata": {},
   "outputs": [],
   "source": [
    "def plot_loss_curve(loss_iteration):\n",
    "\n",
    "    plt.figure(figsize=(8,6))\n",
    "    plt.title('loss curve')\n",
    "\n",
    "    \n",
    "    plt.tight_layout()\n",
    "    plt.show()"
   ]
  },
  {
   "cell_type": "code",
   "execution_count": null,
   "metadata": {},
   "outputs": [],
   "source": [
    "\n",
    "def plot_model_parameter(theta0_iteration, theta1_iteration):\n",
    "\n",
    "    plt.figure(figsize=(8,6))\n",
    "    plt.title('model parameter')\n",
    "\n",
    "\n",
    "    plt.tight_layout()\n",
    "    plt.show()"
   ]
  },
  {
   "cell_type": "code",
   "execution_count": null,
   "metadata": {},
   "outputs": [],
   "source": [
    "\n",
    "X0  = np.arange(-10, 10, 0.1)\n",
    "X1  = np.arange(-10, 10, 0.1)\n",
    "\n",
    "grid_theta0, grid_theta1 = \n",
    "\n",
    "grid_loss   = \n",
    "\n",
    "\n",
    "def plot_loss_surface(grid_theta0, grid_theta1, grid_loss):\n",
    "\n",
    "    fig = plt.figure(figsize=(8,8))\n",
    "    plt.title('loss surface')\n",
    "\n",
    "\n",
    "    plt.tight_layout()\n",
    "    plt.show()"
   ]
  },
  {
   "cell_type": "markdown",
   "metadata": {},
   "source": [
    "# * * * * * * * * * * * * * * * * * * * * * * * * * * * * * * * * *"
   ]
  },
  {
   "cell_type": "markdown",
   "metadata": {},
   "source": [
    "# * results"
   ]
  },
  {
   "cell_type": "markdown",
   "metadata": {},
   "source": [
    "# * * * * * * * * * * * * * * * * * * * * * * * * * * * * * * * * *"
   ]
  },
  {
   "cell_type": "markdown",
   "metadata": {},
   "source": [
    "### # 01. plot the input data in blue point and the regression result in red curve"
   ]
  },
  {
   "cell_type": "code",
   "execution_count": null,
   "metadata": {},
   "outputs": [],
   "source": [
    "plot_data_regression(x, y, f)"
   ]
  },
  {
   "source": [
    "### # 02. plot the values of the model parameters $\\theta_0$ in blue curve and $\\theta_1$ in green curve over the gradient descent iterations"
   ],
   "cell_type": "markdown",
   "metadata": {}
  },
  {
   "cell_type": "code",
   "execution_count": null,
   "metadata": {},
   "outputs": [],
   "source": [
    "plot_model_parameter(theta0_iteration, theta1_iteration)"
   ]
  },
  {
   "source": [
    "### # 03. plot the loss values $\\mathcal{L}(\\theta)$ in red curve over the gradient descent iterations"
   ],
   "cell_type": "markdown",
   "metadata": {}
  },
  {
   "cell_type": "code",
   "execution_count": null,
   "metadata": {},
   "outputs": [],
   "source": [
    "plot_loss_curve(loss_iteration)"
   ]
  },
  {
   "source": [
    "### # 04. plot the loss surface in 3-dimension surface where $x$-axis represents $\\theta_0$, $y$-axis represents $\\theta_1$ and $z$-axis represents $\\mathcal{L}$"
   ],
   "cell_type": "markdown",
   "metadata": {}
  },
  {
   "cell_type": "code",
   "execution_count": null,
   "metadata": {},
   "outputs": [],
   "source": [
    "plot_loss_surface(grid_theta0, grid_theta1, grid_loss)"
   ]
  },
  {
   "cell_type": "code",
   "execution_count": null,
   "metadata": {},
   "outputs": [],
   "source": []
  }
 ],
 "metadata": {
  "kernelspec": {
   "name": "python390jvsc74a57bd063fd5069d213b44bf678585dea6b12cceca9941eaf7f819626cde1f2670de90d",
   "display_name": "Python 3.9.0 64-bit"
  },
  "language_info": {
   "codemirror_mode": {
    "name": "ipython",
    "version": 3
   },
   "file_extension": ".py",
   "mimetype": "text/x-python",
   "name": "python",
   "nbconvert_exporter": "python",
   "pygments_lexer": "ipython3",
   "version": "3.9.0-final"
  },
  "metadata": {
   "interpreter": {
    "hash": "63fd5069d213b44bf678585dea6b12cceca9941eaf7f819626cde1f2670de90d"
   }
  }
 },
 "nbformat": 4,
 "nbformat_minor": 2
}